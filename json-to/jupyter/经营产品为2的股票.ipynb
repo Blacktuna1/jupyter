{
 "cells": [
  {
   "cell_type": "code",
   "execution_count": 1,
   "metadata": {},
   "outputs": [],
   "source": [
    "import pandas as pd"
   ]
  },
  {
   "cell_type": "code",
   "execution_count": 3,
   "metadata": {},
   "outputs": [],
   "source": [
    "df = pd.read_excel(io=r\"C:\\Users\\TUNGEE\\Desktop\\产业上下游结果数据-人工确认.xlsx\",sheet_name=\"Sheet1\")"
   ]
  },
  {
   "cell_type": "code",
   "execution_count": 27,
   "metadata": {},
   "outputs": [],
   "source": [
    "df_temp = pd.read_excel(io=r\"D:\\code\\jupyter\\json-to\\企业经营产品数量.xlsx\")\n",
    "df_one = df_temp[df_temp['经营产品'] == 1 ]\n",
    "df_two = df_temp[df_temp['经营产品'] == 2 ]"
   ]
  },
  {
   "cell_type": "code",
   "execution_count": 28,
   "metadata": {},
   "outputs": [
    {
     "data": {
      "text/html": [
       "<div>\n",
       "<style scoped>\n",
       "    .dataframe tbody tr th:only-of-type {\n",
       "        vertical-align: middle;\n",
       "    }\n",
       "\n",
       "    .dataframe tbody tr th {\n",
       "        vertical-align: top;\n",
       "    }\n",
       "\n",
       "    .dataframe thead th {\n",
       "        text-align: right;\n",
       "    }\n",
       "</style>\n",
       "<table border=\"1\" class=\"dataframe\">\n",
       "  <thead>\n",
       "    <tr style=\"text-align: right;\">\n",
       "      <th></th>\n",
       "      <th>Unnamed: 0</th>\n",
       "      <th>股票名称</th>\n",
       "      <th>经营产品</th>\n",
       "      <th>标记</th>\n",
       "    </tr>\n",
       "  </thead>\n",
       "  <tbody>\n",
       "    <tr>\n",
       "      <th>0</th>\n",
       "      <td>0</td>\n",
       "      <td>*ST三盛</td>\n",
       "      <td>2</td>\n",
       "      <td>多产品</td>\n",
       "    </tr>\n",
       "    <tr>\n",
       "      <th>4</th>\n",
       "      <td>4</td>\n",
       "      <td>*ST京蓝</td>\n",
       "      <td>2</td>\n",
       "      <td>多产品</td>\n",
       "    </tr>\n",
       "    <tr>\n",
       "      <th>5</th>\n",
       "      <td>5</td>\n",
       "      <td>*ST佳沃</td>\n",
       "      <td>2</td>\n",
       "      <td>多产品</td>\n",
       "    </tr>\n",
       "    <tr>\n",
       "      <th>6</th>\n",
       "      <td>6</td>\n",
       "      <td>*ST全新</td>\n",
       "      <td>2</td>\n",
       "      <td>多产品</td>\n",
       "    </tr>\n",
       "    <tr>\n",
       "      <th>8</th>\n",
       "      <td>8</td>\n",
       "      <td>*ST凯撒</td>\n",
       "      <td>2</td>\n",
       "      <td>多产品</td>\n",
       "    </tr>\n",
       "    <tr>\n",
       "      <th>...</th>\n",
       "      <td>...</td>\n",
       "      <td>...</td>\n",
       "      <td>...</td>\n",
       "      <td>...</td>\n",
       "    </tr>\n",
       "    <tr>\n",
       "      <th>4760</th>\n",
       "      <td>4760</td>\n",
       "      <td>龙洲股份</td>\n",
       "      <td>2</td>\n",
       "      <td>多产品</td>\n",
       "    </tr>\n",
       "    <tr>\n",
       "      <th>4765</th>\n",
       "      <td>4765</td>\n",
       "      <td>龙竹科技</td>\n",
       "      <td>2</td>\n",
       "      <td>多产品</td>\n",
       "    </tr>\n",
       "    <tr>\n",
       "      <th>4767</th>\n",
       "      <td>4767</td>\n",
       "      <td>龙芯中科</td>\n",
       "      <td>2</td>\n",
       "      <td>多产品</td>\n",
       "    </tr>\n",
       "    <tr>\n",
       "      <th>4770</th>\n",
       "      <td>4770</td>\n",
       "      <td>龙迅股份</td>\n",
       "      <td>2</td>\n",
       "      <td>多产品</td>\n",
       "    </tr>\n",
       "    <tr>\n",
       "      <th>4772</th>\n",
       "      <td>4772</td>\n",
       "      <td>龙高股份</td>\n",
       "      <td>2</td>\n",
       "      <td>多产品</td>\n",
       "    </tr>\n",
       "  </tbody>\n",
       "</table>\n",
       "<p>1334 rows × 4 columns</p>\n",
       "</div>"
      ],
      "text/plain": [
       "      Unnamed: 0   股票名称  经营产品   标记\n",
       "0              0  *ST三盛     2  多产品\n",
       "4              4  *ST京蓝     2  多产品\n",
       "5              5  *ST佳沃     2  多产品\n",
       "6              6  *ST全新     2  多产品\n",
       "8              8  *ST凯撒     2  多产品\n",
       "...          ...    ...   ...  ...\n",
       "4760        4760   龙洲股份     2  多产品\n",
       "4765        4765   龙竹科技     2  多产品\n",
       "4767        4767   龙芯中科     2  多产品\n",
       "4770        4770   龙迅股份     2  多产品\n",
       "4772        4772   龙高股份     2  多产品\n",
       "\n",
       "[1334 rows x 4 columns]"
      ]
     },
     "metadata": {},
     "output_type": "display_data"
    }
   ],
   "source": [
    "display(df_two)"
   ]
  },
  {
   "cell_type": "code",
   "execution_count": 29,
   "metadata": {},
   "outputs": [],
   "source": [
    "# pd.merge(df,df_one,on=\"股票名称\").to_excel(r\"C:\\Users\\TUNGEE\\Desktop\\经营产品为1的股票.xlsx\")\n",
    "pd.merge(df,df_two,on=\"股票名称\").to_excel(r\"C:\\Users\\TUNGEE\\Desktop\\经营产品为2的股票.xlsx\")\n"
   ]
  },
  {
   "cell_type": "code",
   "execution_count": 31,
   "metadata": {},
   "outputs": [
    {
     "name": "stdout",
     "output_type": "stream",
     "text": [
      "              日期     开盘     收盘     最高     最低      成交量           成交额    振幅  \\\n",
      "0     2017-03-01   9.49   9.49   9.55   9.47   346994  3.301580e+08  0.84   \n",
      "1     2017-03-02   9.51   9.43   9.54   9.42   403629  3.823959e+08  1.26   \n",
      "2     2017-03-03   9.41   9.40   9.43   9.36   342655  3.219525e+08  0.74   \n",
      "3     2017-03-06   9.40   9.45   9.46   9.39   404511  3.812123e+08  0.74   \n",
      "4     2017-03-07   9.44   9.45   9.46   9.40   294673  2.777474e+08  0.63   \n",
      "...          ...    ...    ...    ...    ...      ...           ...   ...   \n",
      "1100  2021-09-01  17.48  17.88  17.92  17.01  2316894  4.046284e+09  5.11   \n",
      "1101  2021-09-02  18.00  18.40  18.78  17.80  2422604  4.454545e+09  5.48   \n",
      "1102  2021-09-03  18.50  18.04  18.50  17.70  1394819  2.523273e+09  4.35   \n",
      "1103  2021-09-06  17.93  18.45  18.60  17.78  1515226  2.780281e+09  4.55   \n",
      "1104  2021-09-07  18.60  19.24  19.56  18.35  1622344  3.067366e+09  6.56   \n",
      "\n",
      "       涨跌幅   涨跌额   换手率  \n",
      "0     0.11  0.01  0.21  \n",
      "1    -0.63 -0.06  0.24  \n",
      "2    -0.32 -0.03  0.20  \n",
      "3     0.53  0.05  0.24  \n",
      "4     0.00  0.00  0.17  \n",
      "...    ...   ...   ...  \n",
      "1100  0.45  0.08  1.19  \n",
      "1101  2.91  0.52  1.25  \n",
      "1102 -1.96 -0.36  0.72  \n",
      "1103  2.27  0.41  0.78  \n",
      "1104  4.28  0.79  0.84  \n",
      "\n",
      "[1105 rows x 11 columns]\n"
     ]
    }
   ],
   "source": [
    "import akshare as ak\n",
    "\n",
    "stock_zh_a_hist_df = ak.stock_zh_a_hist(symbol=\"000001\", period=\"daily\", start_date=\"20170301\", end_date='20210907', adjust=\"\")\n",
    "print(stock_zh_a_hist_df)"
   ]
  },
  {
   "cell_type": "code",
   "execution_count": null,
   "metadata": {},
   "outputs": [],
   "source": []
  }
 ],
 "metadata": {
  "kernelspec": {
   "display_name": "Python 3",
   "language": "python",
   "name": "python3"
  },
  "language_info": {
   "codemirror_mode": {
    "name": "ipython",
    "version": 3
   },
   "file_extension": ".py",
   "mimetype": "text/x-python",
   "name": "python",
   "nbconvert_exporter": "python",
   "pygments_lexer": "ipython3",
   "version": "0.0.0"
  }
 },
 "nbformat": 4,
 "nbformat_minor": 2
}
