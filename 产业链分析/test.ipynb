{
 "cells": [
  {
   "cell_type": "code",
   "execution_count": 20,
   "metadata": {},
   "outputs": [],
   "source": [
    "import pandas as pd\n",
    "import requests\n",
    "from tqdm import tqdm\n",
    "import time"
   ]
  },
  {
   "cell_type": "code",
   "execution_count": 21,
   "metadata": {},
   "outputs": [],
   "source": [
    "apikey = \"sk-73eAaaMAgCE1wFNy58A29d4849B447CaA2E287A04d7fBfAc\""
   ]
  },
  {
   "cell_type": "code",
   "execution_count": 22,
   "metadata": {},
   "outputs": [],
   "source": [
    "def send_chat_message_up(industry, up=\"上游\", retry=0):\n",
    "    url = 'http://23.105.199.129:3002/v1/chat/completions'\n",
    "    headers = {\n",
    "        'Authorization': f'Bearer {apikey}',\n",
    "        'Content-Type': 'application/json',\n",
    "    }\n",
    "    payload = {\n",
    "        \"model\" : \"gpt-4\",\n",
    "        \"messages\": [\n",
    "            {\n",
    "                \"content\": f\"提供给我{industry}的{up}产品，只需要五个，并用‘、’隔开给我。注意，不要带回答的前缀\",\n",
    "                \"role\": \"user\"\n",
    "            }\n",
    "        ]\n",
    "    }\n",
    "    response = requests.post(url, headers=headers, json=payload)\n",
    "    if response.status_code == 200:\n",
    "        response_data = response.json()\n",
    "        # 处理响应数据\n",
    "        return response_data['choices'][0]['message']['content']\n",
    "    else:\n",
    "        print(\"Request failed with status code:\", response.status_code)\n",
    "        if retry > 10:\n",
    "            print(\"重试次数过多\", industry)\n",
    "            return None\n",
    "        return send_chat_message_up(industry, up=\"上游\", retry=retry + 1)"
   ]
  },
  {
   "cell_type": "code",
   "execution_count": 29,
   "metadata": {},
   "outputs": [],
   "source": [
    "def send_chat_message_up(industry, up=\"下游\", retry=0):\n",
    "    url = 'http://23.105.199.129:3002/v1/chat/completions'\n",
    "    headers = {\n",
    "        'Authorization': f'Bearer {apikey}',\n",
    "        'Content-Type': 'application/json',\n",
    "    }\n",
    "    payload = {\n",
    "        \"model\" : \"gpt-4\",\n",
    "        \"messages\": [\n",
    "            {\n",
    "                \"content\": f\"提供给我{industry}的{up}产品，只需要五个，并用‘、’隔开给我。注意，不要带回答的前缀\",\n",
    "                \"role\": \"user\"\n",
    "            }\n",
    "        ]\n",
    "    }\n",
    "    response = requests.post(url, headers=headers, json=payload)\n",
    "    print(response)\n",
    "    if response.status_code == 200:\n",
    "        response_data = response.json()\n",
    "        # 处理响应数据\n",
    "        return response_data['choices'][0]['message']['content']\n",
    "    else:\n",
    "        print(\"Request failed with status code:\", response.status_code)\n",
    "        if retry > 10:\n",
    "            print(\"重试次数过多\", industry)\n",
    "            return None\n",
    "        return send_chat_message_up(industry, up=\"下游\", retry=retry + 1)"
   ]
  },
  {
   "cell_type": "code",
   "execution_count": null,
   "metadata": {},
   "outputs": [
    {
     "name": "stdout",
     "output_type": "stream",
     "text": [
      "<Response [401]>\n",
      "Request failed with status code: 401\n",
      "<Response [401]>\n",
      "Request failed with status code: 401\n",
      "<Response [401]>\n",
      "Request failed with status code: 401\n",
      "<Response [401]>\n",
      "Request failed with status code: 401\n",
      "<Response [401]>\n",
      "Request failed with status code: 401\n",
      "<Response [401]>\n",
      "Request failed with status code: 401\n",
      "<Response [401]>\n",
      "Request failed with status code: 401\n",
      "<Response [401]>\n",
      "Request failed with status code: 401\n",
      "<Response [401]>\n",
      "Request failed with status code: 401\n",
      "<Response [401]>\n",
      "Request failed with status code: 401\n",
      "<Response [401]>\n",
      "Request failed with status code: 401\n",
      "<Response [401]>\n",
      "Request failed with status code: 401\n",
      "重试次数过多 房地产\n"
     ]
    }
   ],
   "source": [
    "send_chat_message_up('房地产')"
   ]
  },
  {
   "cell_type": "code",
   "execution_count": null,
   "metadata": {},
   "outputs": [],
   "source": [
    "def fill_keywords(row):\n",
    "    try:\n",
    "        upstream_keywords = send_chat_message_up(row['关键词'])\n",
    "        downstream_keywords = send_chat_message_down(row['关键词'])          \n",
    "        row['上游关键词'] = upstream_keywords\n",
    "        row['下游关键词'] = downstream_keywords\n",
    "    except Exception as e:\n",
    "        print(f\"Error processing row: {e}\")\n",
    "    return row"
   ]
  },
  {
   "cell_type": "code",
   "execution_count": null,
   "metadata": {},
   "outputs": [],
   "source": [
    "# Assuming df_temp is your DataFrame\n",
    "# Create a tqdm instance to track progress\n",
    "tqdm_instance = tqdm(total=len(df_temp), desc=\"Processing Rows\", position=0, leave=True)\n",
    "\n",
    "for i, row in df_temp.iterrows():\n",
    "    df_temp.loc[i] = fill_keywords(row)\n",
    "    \n",
    "    # Save progress after processing each row\n",
    "    df_temp.to_excel(r\"C:\\Users\\10378\\Desktop\\7_test.xlsx\", index=False)\n",
    "    \n",
    "    # Update the progress bar\n",
    "    tqdm_instance.update(1)\n",
    "\n",
    "# Close the tqdm instance\n",
    "tqdm_instance.close()"
   ]
  },
  {
   "cell_type": "code",
   "execution_count": null,
   "metadata": {},
   "outputs": [],
   "source": []
  },
  {
   "cell_type": "markdown",
   "metadata": {},
   "source": [
    "### test"
   ]
  },
  {
   "cell_type": "code",
   "execution_count": 1,
   "metadata": {},
   "outputs": [],
   "source": [
    "import pandas as pd\n",
    "from tqdm import tqdm\n",
    "import time"
   ]
  },
  {
   "cell_type": "code",
   "execution_count": 2,
   "metadata": {},
   "outputs": [],
   "source": [
    "\n",
    "## 取前十个数据作为测试集\n",
    "temp = pd.read_excel(io=r\"C:\\Users\\TUNGEE\\Desktop\\产业链补充数据TEMP.xlsx\")\n",
    "# temp = temp .iloc[0:1001,:]\n",
    "# display(temp)\n",
    "# temp = df .iloc[0:51,:]\n",
    "# display(temp)"
   ]
  },
  {
   "cell_type": "code",
   "execution_count": 3,
   "metadata": {},
   "outputs": [],
   "source": [
    "def send_temp_up(industry) :\n",
    "    time.sleep(2)\n",
    "    return industry+\"up\"\n",
    "\n",
    "def send_temp_down(industry) :\n",
    "    time.sleep(2)\n",
    "    return industry+\"down\"\n",
    "\n",
    "def fill_keywords(row):\n",
    "    try:\n",
    "        upstream_keywords = send_temp_up(row['经营产品'])\n",
    "        downstream_keywords = send_temp_down(row['经营产品'])          \n",
    "        row['上游关键词'] = upstream_keywords\n",
    "        row['下游关键词'] = downstream_keywords\n",
    "    except Exception as e:\n",
    "        print(f\"Error processing row: {e}\")\n",
    "    return row"
   ]
  },
  {
   "cell_type": "code",
   "execution_count": 33,
   "metadata": {},
   "outputs": [],
   "source": [
    "# Assuming df_temp is your DataFrame\n",
    "# Create a tqdm instance to track progress\n",
    "tqdm_instance = tqdm(total=len(temp), desc=\"Processing Rows\", position=0, leave=True)\n",
    "\n",
    "for i, row in temp.iterrows():\n",
    "    try:\n",
    "        temp.loc[i] = fill_keywords(row)\n",
    "    except Exception as e:\n",
    "        print(f\"Error processing row: {e}\")\n",
    "    \n",
    "    # Save progress after processing each row\n",
    "    temp.to_excel(r\"C:\\Users\\TUNGEE\\Desktop\\temp.xlsx\", index=False)   \n",
    "    \n",
    "    # Update the progress bar\n",
    "    tqdm_instance.update(1)\n",
    "\n",
    "# Close the tqdm instance\n",
    "tqdm_instance.close()"
   ]
  },
  {
   "cell_type": "markdown",
   "metadata": {},
   "source": [
    "### 多线程"
   ]
  },
  {
   "cell_type": "code",
   "execution_count": 4,
   "metadata": {},
   "outputs": [
    {
     "name": "stderr",
     "output_type": "stream",
     "text": [
      "等待线程: 100%|██████████| 51/51 [00:44<00:00,  1.15it/s]\n",
      "处理行: 100%|██████████| 51/51 [00:44<00:00,  1.15it/s]\n"
     ]
    }
   ],
   "source": [
    "from tqdm import tqdm\n",
    "from concurrent.futures import ThreadPoolExecutor\n",
    "\n",
    "# 创建tqdm 实例\n",
    "tqdm_instance = tqdm(total=len(temp), desc=\"处理行\", position=0, leave=True)\n",
    "\n",
    "def process_row(i, row):\n",
    "    try:\n",
    "        # 填充关键词\n",
    "        temp.loc[i] = fill_keywords(row)\n",
    "    except Exception as e:\n",
    "        print(f\"填充时出错: {e}\")\n",
    "\n",
    "    # 每处理完一行就保存进度\n",
    "    temp.to_excel(r\"C:\\Users\\TUNGEE\\Desktop\\temp.xlsx\", index=False)\n",
    "\n",
    "    # 更新进度条\n",
    "    tqdm_instance.update(1)\n",
    "\n",
    "# 设置线程数\n",
    "num_threads = 5  \n",
    "\n",
    "# 使用 ThreadPoolExecutor 进行并发处理\n",
    "with ThreadPoolExecutor(max_workers=num_threads) as executor:\n",
    "    # 提交每一行的任务以实现并行处理\n",
    "    futures = [executor.submit(process_row, i, row) for i, row in temp.iterrows()]\n",
    "\n",
    "    # 等待所有任务完成\n",
    "    for future in tqdm(futures, desc=\"等待线程\", position=1, leave=True):\n",
    "        future.result()\n",
    "\n",
    "# 关闭 tqdm 实例\n",
    "tqdm_instance.close()"
   ]
  },
  {
   "cell_type": "code",
   "execution_count": null,
   "metadata": {},
   "outputs": [],
   "source": []
  },
  {
   "cell_type": "markdown",
   "metadata": {},
   "source": [
    "### logging && ThreadPool"
   ]
  },
  {
   "cell_type": "code",
   "execution_count": 1,
   "metadata": {},
   "outputs": [
    {
     "name": "stderr",
     "output_type": "stream",
     "text": [
      "处理行:  69%|██████▊   | 4333/6310 [1:52:11<56:30,  1.72s/it]  "
     ]
    }
   ],
   "source": [
    "import logging\n",
    "from tqdm import tqdm\n",
    "from concurrent.futures import ThreadPoolExecutor\n",
    "import pandas as pd\n",
    "import time\n",
    "\n",
    "## 取前十个数据作为测试集\n",
    "temp = pd.read_excel(io=r\"C:\\Users\\TUNGEE\\Desktop\\产业链补充数据TEMP.xlsx\")\n",
    "# temp = temp.iloc[0:1001,:]\n",
    "\n",
    "def send_temp_up(industry) :\n",
    "    time.sleep(2)\n",
    "    return industry+\"up\"\n",
    "\n",
    "def send_temp_down(industry) :\n",
    "    time.sleep(2)\n",
    "    return industry+\"down\"\n",
    "\n",
    "def fill_keywords(row):\n",
    "    try:\n",
    "        upstream_keywords = send_temp_up(row['经营产品'])\n",
    "        downstream_keywords = send_temp_down(row['经营产品'])          \n",
    "        row['上游关键词'] = upstream_keywords\n",
    "        row['下游关键词'] = downstream_keywords\n",
    "    except Exception as e:\n",
    "        print(f\"Error processing row: {e}\")\n",
    "    return row\n",
    "\n",
    "# 配置日志\n",
    "logging.basicConfig(filename=r\"C:\\Users\\TUNGEE\\Desktop\\fill_keywords.log\", level=logging.INFO, format='%(asctime)s - %(levelname)s - %(message)s')\n",
    "console_handler = logging.StreamHandler()  # 创建一个控制台处理程序\n",
    "logging.getLogger().addHandler(console_handler)  # 将控制台处理程序添加到根记录器\n",
    "\n",
    "# 创建 tqdm 实例\n",
    "tqdm_instance = tqdm(total=len(temp), desc=\"处理行\", position=0, leave=True)\n",
    "\n",
    "def process_row(i, row):\n",
    "    try:\n",
    "        # 填充关键词\n",
    "        keywords_result = fill_keywords(row)\n",
    "        temp.loc[i] = keywords_result\n",
    "        # 记录填充关键词的信息到日志\n",
    "\n",
    "        ## gpt输出包含道歉，则出现gpt回答问题出错\n",
    "        if(keywords_result['上游关键词'].__contains__(\"对不起\") or keywords_result['下游关键词'].__contains__('对不起')):\n",
    "            logging.info(f\"---gpt error: answer error--- 行 {i} 上游关键词结果: {row['上游关键词']} ||  下游关键词结果: {row['下游关键词']}\")\n",
    "\n",
    "        ## gpt输出包含冒号，则出现格式回答问题\n",
    "        if(keywords_result['上游关键词'].__contains__(\"：\") or keywords_result['下游关键词'].__contains__('：')):\n",
    "            logging.info(f\"---gpt error: prefigx error--- 行 {i} 上游关键词结果: {row['上游关键词']} || 下游关键词结果: {row['下游关键词']}\")\n",
    "    except Exception as e:\n",
    "        # 记录异常信息到日志\n",
    "        logging.error(f\"填充时出错: {e}\")\n",
    "\n",
    "    # 每处理完一行就保存进度\n",
    "    temp.to_excel(r\"C:\\Users\\TUNGEE\\Desktop\\temp.xlsx\", index=False)\n",
    "\n",
    "    # 更新进度条\n",
    "    tqdm_instance.update(1)\n",
    "\n",
    "# 设置线程数\n",
    "num_threads = 6\n",
    "\n",
    "# 使用 ThreadPoolExecutor 进行并发处理\n",
    "with ThreadPoolExecutor(max_workers=num_threads) as executor:\n",
    "    # 提交每一行的任务以实现并行处理\n",
    "    futures = [executor.submit(process_row, i, row) for i, row in temp.iterrows()]\n",
    "\n",
    "    # 等待所有任务完成\n",
    "    for future in tqdm(futures, desc=\"等待线程\", position=1, leave=True):\n",
    "        future.result()\n",
    "\n",
    "# 关闭 tqdm 实例\n",
    "tqdm_instance.close()\n"
   ]
  },
  {
   "cell_type": "code",
   "execution_count": null,
   "metadata": {},
   "outputs": [],
   "source": []
  }
 ],
 "metadata": {
  "kernelspec": {
   "display_name": "base",
   "language": "python",
   "name": "python3"
  },
  "language_info": {
   "codemirror_mode": {
    "name": "ipython",
    "version": 3
   },
   "file_extension": ".py",
   "mimetype": "text/x-python",
   "name": "python",
   "nbconvert_exporter": "python",
   "pygments_lexer": "ipython3",
   "version": "3.11.5"
  }
 },
 "nbformat": 4,
 "nbformat_minor": 2
}
