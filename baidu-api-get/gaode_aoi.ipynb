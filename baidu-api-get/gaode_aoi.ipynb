{
 "cells": [
  {
   "cell_type": "code",
   "execution_count": 54,
   "metadata": {},
   "outputs": [],
   "source": [
    "import requests\n",
    "import json\n",
    "from fake_useragent import UserAgent"
   ]
  },
  {
   "cell_type": "code",
   "execution_count": 55,
   "metadata": {},
   "outputs": [],
   "source": [
    "url = 'https://ditu.amap.com/detail/get/detail?id=B00140TY1H'"
   ]
  },
  {
   "cell_type": "code",
   "execution_count": 61,
   "metadata": {},
   "outputs": [],
   "source": [
    "headers ={\n",
    "    'User-Agent': UserAgent().random,\n",
    "    'Cookie': '_uab_collina=169985475396253775299927; cna=HWrYHYsOX3gCAbcYQ5rf8q4Z; xlly_s=1; guid=6990-84a2-2c99-fcf5; tfstk=eU56vfiULcm_fEHiAlaFVBg5kxAflGNzlqTArZhZkCd9lS_lPKUG7RbAdiIHQhdV0Itf4H4vDIp9JwBlCFIcGZcXkZI0SnzgLNbMiIEz4zPPSN2XjxO3aREhlfAY4uPExqxBPIBNds9GxtGQIocCokGnTjazlTETKAHOOeED2NOX-e5B2dtJpHGA86T6C3QO4DlyV0Nmh29oGetzRyMmnflXPiPeDzXpBeY6LyaIXtv9-etzRyMmndLH5UzQRcBc.; l=fBMHPVFcPsRSQIBfBOfZourza77TRIRfguPzaNbMi9fP_pCk5zCGW1C5OpLDCnGVesbDR3S3hc2kBVTdRydqaM70ewIIdLgEndn8PQNG.; isg=BJqaO07WqxDI7idobR2haxZ-60C8yx6lQrGaDaQTai35FztRjFuotTth5-OLx5Y9'\n",
    "    }"
   ]
  },
  {
   "cell_type": "code",
   "execution_count": 62,
   "metadata": {},
   "outputs": [],
   "source": [
    "res = requests.get(url, headers=headers)\n"
   ]
  },
  {
   "cell_type": "code",
   "execution_count": 3,
   "metadata": {},
   "outputs": [],
   "source": [
    "import requests\n",
    "import json\n",
    "import pandas as pd\n",
    "\n",
    "ak=\"8l5pZ1xEN5biP8XY1ieuXjWPLSSL2auE\"  \n",
    "url = \"http://api.map.baidu.com/place/v2/search?query=医院&page_size=20&scope=1&region=深圳&output=json&ak=\"+ak\n",
    "params = {'page_num':0}   # 请求参数，页码\n",
    "request = requests.get(url,params=params)   # 请求数据"
   ]
  },
  {
   "cell_type": "code",
   "execution_count": 4,
   "metadata": {},
   "outputs": [
    {
     "data": {
      "text/plain": [
       "'{\"status\":220,\"message\":\"APP Referer校验失败\"}'"
      ]
     },
     "execution_count": 4,
     "metadata": {},
     "output_type": "execute_result"
    }
   ],
   "source": [
    "request.text"
   ]
  },
  {
   "cell_type": "code",
   "execution_count": null,
   "metadata": {},
   "outputs": [],
   "source": [
    "url = https://restapi.amap.com/v3/place/text?parameters"
   ]
  }
 ],
 "metadata": {
  "kernelspec": {
   "display_name": "base",
   "language": "python",
   "name": "python3"
  },
  "language_info": {
   "codemirror_mode": {
    "name": "ipython",
    "version": 3
   },
   "file_extension": ".py",
   "mimetype": "text/x-python",
   "name": "python",
   "nbconvert_exporter": "python",
   "pygments_lexer": "ipython3",
   "version": "3.11.5"
  }
 },
 "nbformat": 4,
 "nbformat_minor": 2
}
